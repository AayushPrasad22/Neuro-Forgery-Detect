{
 "cells": [
  {
   "cell_type": "code",
   "execution_count": 5,
   "metadata": {
    "id": "p7hPRVVsvUjt"
   },
   "outputs": [],
   "source": [
    "import cv2\n",
    "import numpy as np\n",
    "from keras.layers import  MaxPooling2D\n",
    "from keras.layers import Dense, Dropout, Activation, Flatten, GlobalAveragePooling2D, BatchNormalization, AveragePooling2D, Input, Conv2D, UpSampling2D\n",
    "from keras.layers import Convolution2D\n",
    "from keras.models import Sequential, load_model, Model\n",
    "import pickle\n",
    "from sklearn.model_selection import train_test_split\n",
    "from keras.callbacks import ModelCheckpoint\n",
    "import keras"
   ]
  },
  {
   "cell_type": "code",
   "execution_count": 1,
   "metadata": {
    "colab": {
     "base_uri": "https://localhost:8080/"
    },
    "id": "XFbndqc2vkAC",
    "outputId": "b1e28caf-1d6a-4ecc-8e5d-14610cfd4b10"
   },
   "outputs": [
    {
     "ename": "FileNotFoundError",
     "evalue": "[Errno 2] No such file or directory: 'C:\\\\Users\\\\aayus\\\\OneDrive\\\\Desktop\\\\RIFD-Net A Robust Image Forgery Detection Network\\\\model\\\\noise_X.npy'",
     "output_type": "error",
     "traceback": [
      "\u001b[1;31m---------------------------------------------------------------------------\u001b[0m",
      "\u001b[1;31mFileNotFoundError\u001b[0m                         Traceback (most recent call last)",
      "\u001b[1;32m~\\AppData\\Local\\Temp/ipykernel_16648/1948134755.py\u001b[0m in \u001b[0;36m<cell line: 12>\u001b[1;34m()\u001b[0m\n\u001b[0;32m     10\u001b[0m \u001b[1;33m\u001b[0m\u001b[0m\n\u001b[0;32m     11\u001b[0m \u001b[1;31m# Load .npy files\u001b[0m\u001b[1;33m\u001b[0m\u001b[1;33m\u001b[0m\u001b[0m\n\u001b[1;32m---> 12\u001b[1;33m \u001b[0mnoise_X\u001b[0m \u001b[1;33m=\u001b[0m \u001b[0mnp\u001b[0m\u001b[1;33m.\u001b[0m\u001b[0mload\u001b[0m\u001b[1;33m(\u001b[0m\u001b[0mNOISE_X_PATH\u001b[0m\u001b[1;33m)\u001b[0m\u001b[1;33m\u001b[0m\u001b[1;33m\u001b[0m\u001b[0m\n\u001b[0m\u001b[0;32m     13\u001b[0m \u001b[0mclean_Y\u001b[0m \u001b[1;33m=\u001b[0m \u001b[0mnp\u001b[0m\u001b[1;33m.\u001b[0m\u001b[0mload\u001b[0m\u001b[1;33m(\u001b[0m\u001b[0mCLEAN_Y_PATH\u001b[0m\u001b[1;33m)\u001b[0m\u001b[1;33m\u001b[0m\u001b[1;33m\u001b[0m\u001b[0m\n\u001b[0;32m     14\u001b[0m \u001b[1;33m\u001b[0m\u001b[0m\n",
      "\u001b[1;32m~\\AppData\\Local\\Programs\\Python\\Python310\\lib\\site-packages\\numpy\\lib\\npyio.py\u001b[0m in \u001b[0;36mload\u001b[1;34m(file, mmap_mode, allow_pickle, fix_imports, encoding, max_header_size)\u001b[0m\n\u001b[0;32m    425\u001b[0m             \u001b[0mown_fid\u001b[0m \u001b[1;33m=\u001b[0m \u001b[1;32mFalse\u001b[0m\u001b[1;33m\u001b[0m\u001b[1;33m\u001b[0m\u001b[0m\n\u001b[0;32m    426\u001b[0m         \u001b[1;32melse\u001b[0m\u001b[1;33m:\u001b[0m\u001b[1;33m\u001b[0m\u001b[1;33m\u001b[0m\u001b[0m\n\u001b[1;32m--> 427\u001b[1;33m             \u001b[0mfid\u001b[0m \u001b[1;33m=\u001b[0m \u001b[0mstack\u001b[0m\u001b[1;33m.\u001b[0m\u001b[0menter_context\u001b[0m\u001b[1;33m(\u001b[0m\u001b[0mopen\u001b[0m\u001b[1;33m(\u001b[0m\u001b[0mos_fspath\u001b[0m\u001b[1;33m(\u001b[0m\u001b[0mfile\u001b[0m\u001b[1;33m)\u001b[0m\u001b[1;33m,\u001b[0m \u001b[1;34m\"rb\"\u001b[0m\u001b[1;33m)\u001b[0m\u001b[1;33m)\u001b[0m\u001b[1;33m\u001b[0m\u001b[1;33m\u001b[0m\u001b[0m\n\u001b[0m\u001b[0;32m    428\u001b[0m             \u001b[0mown_fid\u001b[0m \u001b[1;33m=\u001b[0m \u001b[1;32mTrue\u001b[0m\u001b[1;33m\u001b[0m\u001b[1;33m\u001b[0m\u001b[0m\n\u001b[0;32m    429\u001b[0m \u001b[1;33m\u001b[0m\u001b[0m\n",
      "\u001b[1;31mFileNotFoundError\u001b[0m: [Errno 2] No such file or directory: 'C:\\\\Users\\\\aayus\\\\OneDrive\\\\Desktop\\\\RIFD-Net A Robust Image Forgery Detection Network\\\\model\\\\noise_X.npy'"
     ]
    }
   ],
   "source": [
    "import numpy as np\n",
    "from sklearn.model_selection import train_test_split\n",
    "\n",
    "# Import paths from config file\n",
    "from config import (\n",
    "    NOISE_X_PATH, CLEAN_Y_PATH,\n",
    "    MODEL_PATH, HISTORY_PATH,\n",
    "    TEST_IMAGE_PATH_1, TEST_IMAGE_PATH_2\n",
    ")\n",
    "\n",
    "# Load .npy files\n",
    "noise_X = np.load(NOISE_X_PATH)\n",
    "clean_Y = np.load(CLEAN_Y_PATH)\n",
    "\n",
    "# Normalize\n",
    "noise_X = noise_X.astype('float32') / 255.0\n",
    "clean_Y = clean_Y.astype('float32') / 255.0\n",
    "\n",
    "# Shuffle\n",
    "indices = np.arange(noise_X.shape[0])\n",
    "np.random.shuffle(indices)\n",
    "noise_X = noise_X[indices]\n",
    "clean_Y = clean_Y[indices]\n",
    "\n",
    "# Split\n",
    "X_train, X_test, y_train, y_test = train_test_split(noise_X, clean_Y, test_size=0.2)\n",
    "\n",
    "# Check shapes\n",
    "print(noise_X.shape)\n",
    "print(clean_Y.shape)\n"
   ]
  },
  {
   "cell_type": "code",
   "execution_count": 2,
   "metadata": {
    "colab": {
     "base_uri": "https://localhost:8080/"
    },
    "id": "yQ0RPXZ0vyk3",
    "outputId": "d5cbee58-8264-4191-d764-70ed2e837b01"
   },
   "outputs": [
    {
     "name": "stderr",
     "output_type": "stream",
     "text": [
      "C:\\Users\\aayus\\AppData\\Local\\Programs\\Python\\Python310\\lib\\site-packages\\keras\\src\\layers\\convolutional\\base_conv.py:107: UserWarning: Do not pass an `input_shape`/`input_dim` argument to a layer. When using Sequential models, prefer using an `Input(shape)` object as the first layer in the model instead.\n",
      "  super().__init__(activity_regularizer=activity_regularizer, **kwargs)\n"
     ]
    },
    {
     "ename": "NameError",
     "evalue": "name 'X_train' is not defined",
     "output_type": "error",
     "traceback": [
      "\u001b[1;31m---------------------------------------------------------------------------\u001b[0m",
      "\u001b[1;31mNameError\u001b[0m                                 Traceback (most recent call last)",
      "\u001b[1;32m~\\AppData\\Local\\Temp/ipykernel_16648/854385601.py\u001b[0m in \u001b[0;36m<cell line: 21>\u001b[1;34m()\u001b[0m\n\u001b[0;32m     22\u001b[0m     \u001b[0mmodel_check_point\u001b[0m \u001b[1;33m=\u001b[0m \u001b[0mModelCheckpoint\u001b[0m\u001b[1;33m(\u001b[0m\u001b[0mfilepath\u001b[0m\u001b[1;33m=\u001b[0m\u001b[0mMODEL_PATH\u001b[0m\u001b[1;33m,\u001b[0m \u001b[0mverbose\u001b[0m\u001b[1;33m=\u001b[0m\u001b[1;36m1\u001b[0m\u001b[1;33m,\u001b[0m \u001b[0msave_best_only\u001b[0m\u001b[1;33m=\u001b[0m\u001b[1;32mTrue\u001b[0m\u001b[1;33m)\u001b[0m\u001b[1;33m\u001b[0m\u001b[1;33m\u001b[0m\u001b[0m\n\u001b[0;32m     23\u001b[0m     hist = model.fit(\n\u001b[1;32m---> 24\u001b[1;33m         \u001b[0mX_train\u001b[0m\u001b[1;33m,\u001b[0m \u001b[0my_train\u001b[0m\u001b[1;33m,\u001b[0m\u001b[1;33m\u001b[0m\u001b[1;33m\u001b[0m\u001b[0m\n\u001b[0m\u001b[0;32m     25\u001b[0m         \u001b[0mbatch_size\u001b[0m\u001b[1;33m=\u001b[0m\u001b[1;36m32\u001b[0m\u001b[1;33m,\u001b[0m\u001b[1;33m\u001b[0m\u001b[1;33m\u001b[0m\u001b[0m\n\u001b[0;32m     26\u001b[0m         \u001b[0mepochs\u001b[0m\u001b[1;33m=\u001b[0m\u001b[1;36m300\u001b[0m\u001b[1;33m,\u001b[0m\u001b[1;33m\u001b[0m\u001b[1;33m\u001b[0m\u001b[0m\n",
      "\u001b[1;31mNameError\u001b[0m: name 'X_train' is not defined"
     ]
    }
   ],
   "source": [
    "import os\n",
    "import pickle\n",
    "from tensorflow.keras.models import Sequential\n",
    "from tensorflow.keras.layers import Conv2D\n",
    "from tensorflow.keras.callbacks import ModelCheckpoint\n",
    "\n",
    "# Import model paths from config\n",
    "from config import MODEL_PATH, HISTORY_PATH\n",
    "\n",
    "# Define model\n",
    "model = Sequential([\n",
    "    Conv2D(32, (3, 3), activation='relu', padding='same', input_shape=(256, 256, 3)),\n",
    "    Conv2D(64, (3, 3), activation='relu', padding='same'),\n",
    "    Conv2D(32, (3, 3), activation='relu', padding='same'),\n",
    "    Conv2D(3, (3, 3), activation='sigmoid', padding='same')  # Output has 3 channels like input\n",
    "])\n",
    "\n",
    "model.compile(optimizer='adam', loss='mean_squared_error')\n",
    "\n",
    "# Train or load model\n",
    "if not os.path.exists(MODEL_PATH):\n",
    "    model_check_point = ModelCheckpoint(filepath=MODEL_PATH, verbose=1, save_best_only=True)\n",
    "    hist = model.fit(\n",
    "        X_train, y_train,\n",
    "        batch_size=32,\n",
    "        epochs=300,\n",
    "        validation_data=(X_test, y_test),\n",
    "        callbacks=[model_check_point],\n",
    "        verbose=1\n",
    "    )\n",
    "    \n",
    "    with open(HISTORY_PATH, 'wb') as f:\n",
    "        pickle.dump(hist.history, f)\n",
    "else:\n",
    "    model.load_weights(MODEL_PATH)\n"
   ]
  },
  {
   "cell_type": "code",
   "execution_count": null,
   "metadata": {
    "colab": {
     "base_uri": "https://localhost:8080/",
     "height": 452
    },
    "id": "JzlOBryNxU2J",
    "outputId": "8178561c-23a2-43cd-ee36-8667f1d42c6e"
   },
   "outputs": [],
   "source": [
    "import cv2\n",
    "import numpy as np\n",
    "import matplotlib.pyplot as plt\n",
    "\n",
    "# Import test image path from config\n",
    "from config import TEST_IMAGE_PATH_1\n",
    "\n",
    "# Read the image\n",
    "test = cv2.imread(TEST_IMAGE_PATH_1)\n",
    "\n",
    "# Check if the image loaded successfully\n",
    "if test is None:\n",
    "    print(\"Error: Image could not be loaded. Check the path in config.py.\")\n",
    "else:\n",
    "    test = cv2.resize(test, (256, 256))\n",
    "\n",
    "    # Preprocess\n",
    "    temp = [test]\n",
    "    test = np.asarray(temp).astype('float32') / 255.0\n",
    "\n",
    "    # Predict\n",
    "    predict = model.predict(test)[0]\n",
    "\n",
    "    # Post-process for display\n",
    "    predict = cv2.resize(predict, (256, 256))\n",
    "    predict = cv2.cvtColor(predict, cv2.COLOR_BGR2RGB)\n",
    "\n",
    "    # Show result\n",
    "    plt.imshow(predict)\n",
    "    plt.axis('off')\n",
    "    plt.title(\"Predicted Output\")\n",
    "    plt.show()\n"
   ]
  },
  {
   "cell_type": "code",
   "execution_count": null,
   "metadata": {
    "colab": {
     "base_uri": "https://localhost:8080/",
     "height": 435
    },
    "id": "kMQY1N2-5O0G",
    "outputId": "d64ceefb-2a5c-4d34-b207-c6bd2649888b"
   },
   "outputs": [],
   "source": [
    "import cv2\n",
    "import matplotlib.pyplot as plt\n",
    "\n",
    "# Import test image path from config\n",
    "from config import TEST_IMAGE_PATH_2\n",
    "\n",
    "# Read and process image\n",
    "test = cv2.imread(TEST_IMAGE_PATH_2)\n",
    "test = cv2.resize(test, (256, 256))\n",
    "test = cv2.cvtColor(test, cv2.COLOR_BGR2RGB)\n",
    "\n",
    "# Show image\n",
    "plt.imshow(test)\n",
    "plt.axis('off')\n",
    "plt.title(\"Test Image\")\n",
    "plt.show()\n"
   ]
  },
  {
   "cell_type": "code",
   "execution_count": null,
   "metadata": {
    "id": "t7bi2ZRY6A01"
   },
   "outputs": [],
   "source": [
    "import random\n",
    "import numpy as np\n",
    "\n",
    "def add_noise(img):\n",
    "    \"\"\"\n",
    "    Adds random white and black pixel noise to an image.\n",
    "    Works for both grayscale and RGB images.\n",
    "    \"\"\"\n",
    "    # Ensure it's a NumPy array\n",
    "    img = np.array(img, copy=True)\n",
    "\n",
    "    # Handle grayscale vs RGB\n",
    "    if len(img.shape) == 2:  # Grayscale\n",
    "        row, col = img.shape\n",
    "        channels = None\n",
    "    else:  # Color image\n",
    "        row, col, channels = img.shape\n",
    "\n",
    "    # Add white pixels\n",
    "    number_of_pixels = random.randint(300, 10000)\n",
    "    for _ in range(number_of_pixels):\n",
    "        y_coord = random.randint(0, row - 1)\n",
    "        x_coord = random.randint(0, col - 1)\n",
    "        if channels:  # Color\n",
    "            img[y_coord, x_coord] = [255] * channels\n",
    "        else:  # Grayscale\n",
    "            img[y_coord, x_coord] = 255\n",
    "\n",
    "    # Add black pixels\n",
    "    number_of_pixels = random.randint(300, 10000)\n",
    "    for _ in range(number_of_pixels):\n",
    "        y_coord = random.randint(0, row - 1)\n",
    "        x_coord = random.randint(0, col - 1)\n",
    "        if channels:  # Color\n",
    "            img[y_coord, x_coord] = [0] * channels\n",
    "        else:  # Grayscale\n",
    "            img[y_coord, x_coord] = 0\n",
    "\n",
    "    return img\n"
   ]
  },
  {
   "cell_type": "code",
   "execution_count": null,
   "metadata": {
    "colab": {
     "base_uri": "https://localhost:8080/",
     "height": 435
    },
    "id": "UwfqksgL6KUc",
    "outputId": "0c4351a6-47d1-41dd-f31a-c3eb36aee85a"
   },
   "outputs": [],
   "source": [
    "import cv2\n",
    "import matplotlib.pyplot as plt\n",
    "from config import TEST_IMAGE_PATH_2  # Assuming this points to 04.png\n",
    "\n",
    "# Load grayscale image safely\n",
    "img = cv2.imread(TEST_IMAGE_PATH_2, 0)\n",
    "\n",
    "# Add noise (assuming add_noise function is defined)\n",
    "img = add_noise(img)\n",
    "\n",
    "# Display the grayscale noisy image\n",
    "plt.imshow(img, cmap='gray')\n",
    "plt.axis('off')\n",
    "plt.title(\"Noisy Grayscale Image\")\n",
    "plt.show()\n"
   ]
  },
  {
   "cell_type": "code",
   "execution_count": 4,
   "metadata": {
    "colab": {
     "base_uri": "https://localhost:8080/",
     "height": 452
    },
    "id": "598B8wO390mC",
    "outputId": "2807b738-4f9c-488f-d712-47c138cd01f7"
   },
   "outputs": [
    {
     "ename": "NameError",
     "evalue": "name 'img' is not defined",
     "output_type": "error",
     "traceback": [
      "\u001b[1;31m---------------------------------------------------------------------------\u001b[0m",
      "\u001b[1;31mNameError\u001b[0m                                 Traceback (most recent call last)",
      "\u001b[1;32m~\\AppData\\Local\\Temp/ipykernel_10900/3224967734.py\u001b[0m in \u001b[0;36m<cell line: 7>\u001b[1;34m()\u001b[0m\n\u001b[0;32m      5\u001b[0m \u001b[1;33m\u001b[0m\u001b[0m\n\u001b[0;32m      6\u001b[0m \u001b[1;31m# Save the image (ensure 'img' is defined earlier)\u001b[0m\u001b[1;33m\u001b[0m\u001b[1;33m\u001b[0m\u001b[0m\n\u001b[1;32m----> 7\u001b[1;33m \u001b[0mcv2\u001b[0m\u001b[1;33m.\u001b[0m\u001b[0mimwrite\u001b[0m\u001b[1;33m(\u001b[0m\u001b[0mTEST_IMAGE_PATH_2\u001b[0m\u001b[1;33m,\u001b[0m \u001b[0mimg\u001b[0m\u001b[1;33m)\u001b[0m\u001b[1;33m\u001b[0m\u001b[1;33m\u001b[0m\u001b[0m\n\u001b[0m\u001b[0;32m      8\u001b[0m \u001b[1;33m\u001b[0m\u001b[0m\n\u001b[0;32m      9\u001b[0m \u001b[1;31m# Read the saved image\u001b[0m\u001b[1;33m\u001b[0m\u001b[1;33m\u001b[0m\u001b[0m\n",
      "\u001b[1;31mNameError\u001b[0m: name 'img' is not defined"
     ]
    }
   ],
   "source": [
    "import cv2\n",
    "import numpy as np\n",
    "import matplotlib.pyplot as plt\n",
    "from config import TEST_IMAGE_PATH_2  # path to '04.png'\n",
    "\n",
    "# Save the image (ensure 'img' is defined earlier)\n",
    "cv2.imwrite(TEST_IMAGE_PATH_2, img)\n",
    "\n",
    "# Read the saved image\n",
    "test = cv2.imread(TEST_IMAGE_PATH_2)\n",
    "test = cv2.resize(test, (256, 256))\n",
    "\n",
    "# Preprocess\n",
    "temp = [test]\n",
    "test = np.asarray(temp).astype('float32') / 255.0\n",
    "\n",
    "# Predict\n",
    "predict = model.predict(test)[0]\n",
    "\n",
    "# Post-process for display\n",
    "predict = cv2.resize(predict, (256, 256))\n",
    "predict = cv2.cvtColor(predict, cv2.COLOR_BGR2RGB)\n",
    "\n",
    "# Display result\n",
    "plt.imshow(predict)\n",
    "plt.axis('off')\n",
    "plt.title(\"Predicted Output\")\n",
    "plt.show()\n"
   ]
  },
  {
   "cell_type": "code",
   "execution_count": null,
   "metadata": {},
   "outputs": [],
   "source": []
  }
 ],
 "metadata": {
  "accelerator": "GPU",
  "colab": {
   "gpuType": "T4",
   "provenance": []
  },
  "kernelspec": {
   "display_name": "Python 3 (ipykernel)",
   "language": "python",
   "name": "python3"
  },
  "language_info": {
   "codemirror_mode": {
    "name": "ipython",
    "version": 3
   },
   "file_extension": ".py",
   "mimetype": "text/x-python",
   "name": "python",
   "nbconvert_exporter": "python",
   "pygments_lexer": "ipython3",
   "version": "3.10.2"
  }
 },
 "nbformat": 4,
 "nbformat_minor": 4
}
